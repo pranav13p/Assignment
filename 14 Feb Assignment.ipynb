{
 "cells": [
  {
   "cell_type": "code",
   "execution_count": null,
   "id": "3b6c41e0-8992-4e38-99ab-60da980f9b2a",
   "metadata": {},
   "outputs": [
    {
     "data": {
      "text/plain": [
       "'Python provides the threading module for dealing with threads'"
      ]
     },
     "execution_count": 1,
     "metadata": {},
     "output_type": "execute_result"
    }
   ],
   "source": [
    "#Q1\n",
    "\n",
    "'''Multithreading is a concept in programming where a single process\n",
    "(or a running instance of a program) can have multiple tasks or sub-tasks \n",
    "(called \"threads\") running concurrently. This is typically used to increase\n",
    "the efficiency of a program by allowing it to do multiple things at once, although \n",
    "the specifics can vary depending on \n",
    "the operating system and the nature of the tasks being performed.'''\n",
    "\n",
    "'''Python provides the threading module for dealing with threads'''"
   ]
  },
  {
   "cell_type": "code",
   "execution_count": null,
   "id": "001fec3c-ad50-4bc3-a587-56c36a9d5188",
   "metadata": {},
   "outputs": [],
   "source": [
    "#Q2\n",
    "\n",
    "t'''he threading module is used in Python to create and manage threads'''\n",
    "\n",
    "'''threading.activeCount(): This function returns the number of Thread \n",
    "objects currently alive. The returned count is equal to the length of \n",
    "the list returned by enumerate(). The main thread is included in this\n",
    "count, and it is always alive when this function is called.\n",
    "\n",
    "threading.currentThread(): This function returns the current Thread \n",
    "object, corresponding to the caller's thread of control. Keep in mind\n",
    "that if the caller's thread of control was not created through the \n",
    "threading module, a dummy thread object with limited functionality\n",
    "is returned.\n",
    "\n",
    "threading.enumerate(): This function returns a list of all Thread \n",
    "objects currently alive. The list includes daemonic threads, dummy \n",
    "thread objects created by currentThread(), and the main thread. It \n",
    "excludes terminated threads and threads that have not yet been started.'''\n",
    "\n",
    "\n",
    "\n",
    "\n",
    "\n",
    "\n",
    "\n"
   ]
  },
  {
   "cell_type": "code",
   "execution_count": null,
   "id": "6eca6150-7b20-4d29-b274-f8da647e9774",
   "metadata": {},
   "outputs": [],
   "source": [
    "#Q3 \n",
    "\n",
    "'''run(): This method is the entry point for a thread. It usually \n",
    "encapsulates the task that the thread is intended to perform.'''\n",
    "\n",
    "'''start(): This method starts a thread by invoking the run() method. \n",
    "It must be called at most once per thread object, otherwise, a RuntimeError'''\n",
    "\n",
    "'''join([timeout]): This method blocks the calling thread\n",
    "(typically the main thread) until the thread whose join()\n",
    "method is called terminates or until the optional timeout occurs'''\n",
    "\n",
    "'''isAlive(): This method returns True if the thread is alive\n",
    "and False otherwise. A thread is considered alive from the moment the start() \n",
    "method returns until the run() method completes.'''"
   ]
  },
  {
   "cell_type": "code",
   "execution_count": 2,
   "id": "5712ee68-1f6c-46bb-9024-4dfa20f2d4f0",
   "metadata": {},
   "outputs": [
    {
     "name": "stderr",
     "output_type": "stream",
     "text": [
      "Exception in thread Thread-5 (print_squares):\n",
      "Traceback (most recent call last):\n",
      "  File \"/opt/conda/lib/python3.10/threading.py\", line 1016, in _bootstrap_inner\n",
      "    self.run()\n",
      "  File \"/opt/conda/lib/python3.10/threading.py\", line 953, in run\n",
      "Exception in thread Thread-6 (print_cubes):\n",
      "Traceback (most recent call last):\n",
      "  File \"/opt/conda/lib/python3.10/threading.py\", line 1016, in _bootstrap_inner\n",
      "    self._target(*self._args, **self._kwargs)\n",
      "  File \"/tmp/ipykernel_9124/2660079684.py\", line 6, in print_squares\n",
      "    self.run()\n",
      "  File \"/opt/conda/lib/python3.10/threading.py\", line 953, in run\n",
      "    self._target(*self._args, **self._kwargs)\n",
      "  File \"/tmp/ipykernel_9124/2660079684.py\", line 10, in print_cubes\n",
      "NameError: name 'num_range' is not defined\n",
      "NameError: name 'num_range' is not defined\n"
     ]
    },
    {
     "name": "stdout",
     "output_type": "stream",
     "text": [
      "Both threads finished execution!\n"
     ]
    }
   ],
   "source": [
    "#Q4 \n",
    "\n",
    "import threading\n",
    "\n",
    "def print_squares():\n",
    "    for num in num_range:\n",
    "        print(f'Square of {num} is {num ** 2}')\n",
    "\n",
    "def print_cubes():\n",
    "    for num in num_range:\n",
    "        print(f'Cube of {num} is {num ** 3}')\n",
    "\n",
    "thread1 = threading.Thread(target=print_squares)\n",
    "thread2 = threading.Thread(target=print_cubes)\n",
    "\n",
    "thread1.start()\n",
    "thread2.start()\n",
    "\n",
    "thread1.join()\n",
    "thread2.join()\n",
    "\n",
    "print(\"Both threads finished execution!\")\n"
   ]
  },
  {
   "cell_type": "code",
   "execution_count": null,
   "id": "e51c768b-3119-4cd5-a67f-5654abca2ca5",
   "metadata": {},
   "outputs": [],
   "source": [
    "#Q5\n",
    "'''Advantages: Enhances system efficiency by allowing multiple tasks to execute concurrently.\n",
    "\n",
    "Disadvantages: Introduces complexity in program design and potential for concurrency issues like deadlocks.'''"
   ]
  },
  {
   "cell_type": "code",
   "execution_count": null,
   "id": "0b43e199-9a7b-4ca2-bf0b-df301284f6cf",
   "metadata": {},
   "outputs": [],
   "source": [
    "#Q6\n",
    "\n",
    "'''Deadlocks: Deadlocks occur in multithreading when two or more threads\n",
    "are unable to proceed because each is waiting for the other to release\n",
    "a resource. This creates a circular chain where each thread holds a resource \n",
    " needed by the next thread in the chain.\n",
    "\n",
    "Race conditions: Race conditions happen when two or more threads access shared\n",
    "data and try to change it at the same time'''"
   ]
  }
 ],
 "metadata": {
  "kernelspec": {
   "display_name": "Python 3 (ipykernel)",
   "language": "python",
   "name": "python3"
  },
  "language_info": {
   "codemirror_mode": {
    "name": "ipython",
    "version": 3
   },
   "file_extension": ".py",
   "mimetype": "text/x-python",
   "name": "python",
   "nbconvert_exporter": "python",
   "pygments_lexer": "ipython3",
   "version": "3.10.8"
  }
 },
 "nbformat": 4,
 "nbformat_minor": 5
}
