{
 "cells": [
  {
   "cell_type": "code",
   "execution_count": 1,
   "id": "ba908391-232b-406e-a841-792b59523e40",
   "metadata": {},
   "outputs": [],
   "source": [
    "#Q1\n",
    "#In Python, we use the def keyword to create a function\n",
    "def test():\n",
    "    oddnumbers = []\n",
    "    for i in range(1, 26):\n",
    "        if i % 2 != 0:\n",
    "            oddnumbers.append(i)\n",
    "    return oddnumbers"
   ]
  },
  {
   "cell_type": "code",
   "execution_count": 2,
   "id": "3b4a080f-5853-4d5b-9699-ff2e033737ff",
   "metadata": {},
   "outputs": [
    {
     "data": {
      "text/plain": [
       "[1, 3, 5, 7, 9, 11, 13, 15, 17, 19, 21, 23, 25]"
      ]
     },
     "execution_count": 2,
     "metadata": {},
     "output_type": "execute_result"
    }
   ],
   "source": [
    "test()"
   ]
  },
  {
   "cell_type": "code",
   "execution_count": 3,
   "id": "a463e135-a8d9-495b-91d8-e606d6feee57",
   "metadata": {},
   "outputs": [],
   "source": [
    "#Q2\n",
    "\n",
    "#*args and **kwargs usend in function for accept varying number of argument in function\n",
    "\n",
    "#function for *args\n",
    "def test(*args):\n",
    "    return args"
   ]
  },
  {
   "cell_type": "code",
   "execution_count": 4,
   "id": "c5ce16a4-b0a2-4960-ad35-ef403a44dc98",
   "metadata": {},
   "outputs": [
    {
     "data": {
      "text/plain": [
       "(1, 2, 3, 4)"
      ]
     },
     "execution_count": 4,
     "metadata": {},
     "output_type": "execute_result"
    }
   ],
   "source": [
    "test(1,2,3,4)"
   ]
  },
  {
   "cell_type": "code",
   "execution_count": 5,
   "id": "c138cfaf-4982-441f-9d4d-4e14ead06ef6",
   "metadata": {},
   "outputs": [],
   "source": [
    "#function for **kwargs\n",
    "def test1(**kwargs):\n",
    "    return kwargs"
   ]
  },
  {
   "cell_type": "code",
   "execution_count": 6,
   "id": "0b9c68b9-9363-4ba5-a1bb-996d7d62a860",
   "metadata": {},
   "outputs": [
    {
     "data": {
      "text/plain": [
       "{'a': 1, 'b': 2}"
      ]
     },
     "execution_count": 6,
     "metadata": {},
     "output_type": "execute_result"
    }
   ],
   "source": [
    "test1(a=1,b=2)"
   ]
  },
  {
   "cell_type": "code",
   "execution_count": 7,
   "id": "1ae6a1c1-b8d0-4034-928c-5a9140e0d6ca",
   "metadata": {},
   "outputs": [
    {
     "name": "stdout",
     "output_type": "stream",
     "text": [
      "2\n",
      "4\n",
      "6\n",
      "8\n",
      "10\n"
     ]
    }
   ],
   "source": [
    "#Q3\n",
    "#In Python, an iterator is an object that implements the iterator protocol. The iterator protocol consists\n",
    "#of two methods: __iter__() and __next__().\n",
    "\n",
    "l1 = [2, 4, 6, 8, 10, 12, 14, 16, 18, 20]\n",
    "l2 = iter(l1)  \n",
    "\n",
    "for i in range(5):\n",
    "    print(next(l2))  \n"
   ]
  },
  {
   "cell_type": "code",
   "execution_count": 8,
   "id": "d5ef4b06-1a70-4e8a-beeb-d6ae8384c083",
   "metadata": {},
   "outputs": [],
   "source": [
    "#Q4\n",
    "#A generator function in Python is a special kind of function that returns an iterator.\n",
    "#A generator function is defined like a normal function, but instead of returning values with a\n",
    "#return statement, it uses the yield keyword. \n",
    "\n",
    "def test4(n):\n",
    "    num = 0\n",
    "    while num < n:\n",
    "        yield num\n",
    "        num += 1"
   ]
  },
  {
   "cell_type": "code",
   "execution_count": 11,
   "id": "3a90cbcc-bbc3-4f02-a9bc-5de3dad89713",
   "metadata": {},
   "outputs": [
    {
     "data": {
      "text/plain": [
       "(3,)"
      ]
     },
     "execution_count": 11,
     "metadata": {},
     "output_type": "execute_result"
    }
   ],
   "source": [
    "test(3)"
   ]
  },
  {
   "cell_type": "code",
   "execution_count": 12,
   "id": "cd43afc3-7c47-49d7-b036-339982565439",
   "metadata": {},
   "outputs": [],
   "source": [
    "#Q5\n",
    "def is_prime(n):\n",
    "    if n <= 1:\n",
    "        return False\n",
    "    if n <= 3:\n",
    "        return True\n",
    "    if n % 2 == 0 or n % 3 == 0:\n",
    "        return False\n",
    "    i = 5\n",
    "    while i * i <= n:\n",
    "        if n % i == 0 or n % (i + 2) == 0:\n",
    "            return False\n",
    "        i += 6\n",
    "    return True\n",
    "\n",
    "\n"
   ]
  },
  {
   "cell_type": "code",
   "execution_count": 15,
   "id": "fff6673c-9e05-4118-9442-e929a940926e",
   "metadata": {},
   "outputs": [
    {
     "data": {
      "text/plain": [
       "False"
      ]
     },
     "execution_count": 15,
     "metadata": {},
     "output_type": "execute_result"
    }
   ],
   "source": [
    "is_prime(90)"
   ]
  },
  {
   "cell_type": "code",
   "execution_count": 16,
   "id": "28f1f659-a686-494e-a043-a2ee8fa624e7",
   "metadata": {},
   "outputs": [
    {
     "name": "stdin",
     "output_type": "stream",
     "text": [
      "enter number 10\n"
     ]
    },
    {
     "name": "stdout",
     "output_type": "stream",
     "text": [
      "0\n",
      "1\n",
      "1\n",
      "2\n",
      "3\n",
      "5\n",
      "8\n",
      "13\n",
      "21\n",
      "34\n",
      "55\n"
     ]
    }
   ],
   "source": [
    "#Q6\n",
    "\n",
    "n = int(input(\"enter number\"))\n",
    "a , b = 0 , 1\n",
    "counter =0\n",
    "\n",
    "while counter < n :\n",
    "    print(a)\n",
    "    c=a+b\n",
    "    a=b\n",
    "    b=c\n",
    "    counter = counter + 1\n",
    "print(a)"
   ]
  },
  {
   "cell_type": "code",
   "execution_count": 20,
   "id": "b6b436bf-c788-4957-9cab-3fa6f54bc91f",
   "metadata": {},
   "outputs": [
    {
     "name": "stdout",
     "output_type": "stream",
     "text": [
      "['p', 'w', 's', 'k', 'i', 'l', 'l', 's']\n"
     ]
    }
   ],
   "source": [
    "#Q7\n",
    "\n",
    "a = 'pwskills'\n",
    "char_list = [char for char in a]\n",
    "print(char_list)"
   ]
  },
  {
   "cell_type": "code",
   "execution_count": 21,
   "id": "130d7f36-01be-42c2-8faa-b7a54b96aead",
   "metadata": {},
   "outputs": [],
   "source": [
    "#Q8\n",
    "def is_palindrome(n):\n",
    "    original = n\n",
    "    reverse = 0\n",
    "\n",
    "    while n > 0:\n",
    "        digit = n % 10\n",
    "        reverse = reverse * 10 + digit\n",
    "        n = n // 10\n",
    "\n",
    "    return original == reverse"
   ]
  },
  {
   "cell_type": "code",
   "execution_count": 24,
   "id": "dd9ffc88-4692-4a92-a121-25965dd59d0f",
   "metadata": {},
   "outputs": [
    {
     "name": "stdout",
     "output_type": "stream",
     "text": [
      "True\n"
     ]
    }
   ],
   "source": [
    "print(is_palindrome(12321)) "
   ]
  },
  {
   "cell_type": "code",
   "execution_count": null,
   "id": "9dbe6c33-2505-42f7-a112-0b50dd30a471",
   "metadata": {},
   "outputs": [],
   "source": [
    "#Q9\n"
   ]
  }
 ],
 "metadata": {
  "kernelspec": {
   "display_name": "Python 3 (ipykernel)",
   "language": "python",
   "name": "python3"
  },
  "language_info": {
   "codemirror_mode": {
    "name": "ipython",
    "version": 3
   },
   "file_extension": ".py",
   "mimetype": "text/x-python",
   "name": "python",
   "nbconvert_exporter": "python",
   "pygments_lexer": "ipython3",
   "version": "3.10.8"
  }
 },
 "nbformat": 4,
 "nbformat_minor": 5
}
