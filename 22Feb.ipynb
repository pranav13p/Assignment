{
 "cells": [
  {
   "cell_type": "code",
   "execution_count": 1,
   "id": "1f1929ac-9506-401b-865a-529e0477a67a",
   "metadata": {},
   "outputs": [
    {
     "name": "stdout",
     "output_type": "stream",
     "text": [
      "0     4\n",
      "1     8\n",
      "2    15\n",
      "3    16\n",
      "4    23\n",
      "5    42\n",
      "dtype: int64\n"
     ]
    }
   ],
   "source": [
    "#Q1\n",
    "\n",
    "import pandas as pd\n",
    "\n",
    "\n",
    "data = [4, 8, 15, 16, 23, 42]\n",
    "series = pd.Series(data)\n",
    "\n",
    "\n",
    "print(series)"
   ]
  },
  {
   "cell_type": "code",
   "execution_count": 2,
   "id": "00c44c2e-6a4a-441e-a565-e7abe3cab36f",
   "metadata": {},
   "outputs": [
    {
     "name": "stdout",
     "output_type": "stream",
     "text": [
      "0     1\n",
      "1     2\n",
      "2     3\n",
      "3     4\n",
      "4     5\n",
      "5     6\n",
      "6     7\n",
      "7     8\n",
      "8     9\n",
      "9    10\n",
      "dtype: int64\n"
     ]
    }
   ],
   "source": [
    "#Q2\n",
    "import pandas as pd\n",
    "\n",
    "\n",
    "my_list = [1, 2, 3, 4, 5, 6, 7, 8, 9, 10]\n",
    "\n",
    "\n",
    "series_list = pd.Series(my_list)\n",
    "\n",
    "\n",
    "print(series_list)\n"
   ]
  },
  {
   "cell_type": "code",
   "execution_count": 3,
   "id": "0d028e9d-5217-40a3-a674-4c5be0dda1d7",
   "metadata": {},
   "outputs": [
    {
     "name": "stdout",
     "output_type": "stream",
     "text": [
      "     NAME  AGE  GENDER\n",
      "0   Alice   25  Female\n",
      "1     Bob   30    Male\n",
      "2  Chaire   27  Female\n"
     ]
    }
   ],
   "source": [
    "#Q3\n",
    "\n",
    "import pandas as pd\n",
    "\n",
    "data = {\n",
    "    'NAME': ['Alice', 'Bob', 'Chaire'],\n",
    "    'AGE': [25, 30, 27],\n",
    "    'GENDER': ['Female', 'Male', 'Female']\n",
    "}\n",
    "\n",
    "df = pd.DataFrame(data)\n",
    "\n",
    "print(df)"
   ]
  },
  {
   "cell_type": "code",
   "execution_count": 4,
   "id": "54fa1c47-3804-40dd-bcc8-3d93af0fea01",
   "metadata": {},
   "outputs": [
    {
     "name": "stdout",
     "output_type": "stream",
     "text": [
      "a    1\n",
      "b    2\n",
      "c    3\n",
      "d    4\n",
      "dtype: int64\n"
     ]
    }
   ],
   "source": [
    "#Q4\n",
    "\n",
    "'''pandas.Series:\n",
    "\n",
    "A Series is a one-dimensional labeled array capable of holding any data type (integers, strings, floating point numbers, Python objects, etc.).\n",
    "It has a single set of labels called the index.\n",
    "Think of it like a column in a spreadsheet or a vector in mathematical terms'''\n",
    "\n",
    "import pandas as pd\n",
    "s = pd.Series([1, 2, 3, 4], index=['a', 'b', 'c', 'd'])\n",
    "print(s)\n",
    "\n"
   ]
  },
  {
   "cell_type": "code",
   "execution_count": 5,
   "id": "fe78a88d-6d0c-4d2c-9217-5e280f10a10d",
   "metadata": {},
   "outputs": [
    {
     "name": "stdout",
     "output_type": "stream",
     "text": [
      "      Name  Age           City\n",
      "0    Alice   25       New York\n",
      "1      Bob   30  San Francisco\n",
      "2  Charlie   35    Los Angeles\n"
     ]
    }
   ],
   "source": [
    "'''pandas.DataFrame:\n",
    "\n",
    "A DataFrame is a 2-dimensional labeled data structure with columns that can be of different types, similar to a spreadsheet, an SQL table, or the data.frame in R.\n",
    "It has an index for rows and another set of labels for columns.\n",
    "Think of it as a collection of Series objects that share a common index.'''\n",
    "\n",
    "import pandas as pd\n",
    "data = {\n",
    "    'Name': ['Alice', 'Bob', 'Charlie'],\n",
    "    'Age': [25, 30, 35],\n",
    "    'City': ['New York', 'San Francisco', 'Los Angeles']\n",
    "}\n",
    "df = pd.DataFrame(data)\n",
    "print(df)\n"
   ]
  },
  {
   "cell_type": "code",
   "execution_count": null,
   "id": "e4e9cd10-e1d6-497b-8952-4ee8899b41b7",
   "metadata": {},
   "outputs": [],
   "source": [
    "#Q5\n",
    "\n",
    "'''head() and tail(): Display the first or last few rows of the DataFrame.\n",
    "\n",
    "Use case: Quick inspection of your data.'''"
   ]
  },
  {
   "cell_type": "code",
   "execution_count": null,
   "id": "69dfcb45-ee26-42bf-b13b-d8ca35fec2cb",
   "metadata": {},
   "outputs": [],
   "source": [
    "#Q6\n",
    "\n",
    "'''Series: Mutable. The values and the index of a Series can be modified.\n",
    "DataFrame: Mutable. The data, index, and columns of a DataFrame can be modified.\n",
    "Panel: Mutable'''"
   ]
  },
  {
   "cell_type": "code",
   "execution_count": 6,
   "id": "2ded003b-1dd0-40d4-bae9-94c1f43f7eda",
   "metadata": {},
   "outputs": [
    {
     "name": "stdout",
     "output_type": "stream",
     "text": [
      "   A  B  C\n",
      "a  1  4  7\n",
      "b  2  5  8\n",
      "c  3  6  9\n"
     ]
    }
   ],
   "source": [
    "#Q7\n",
    "\n",
    "import pandas as pd\n",
    "\n",
    "series1 = pd.Series([1, 2, 3], index=['a', 'b', 'c'])\n",
    "series2 = pd.Series([4, 5, 6], index=['a', 'b', 'c'])\n",
    "series3 = pd.Series([7, 8, 9], index=['a', 'b', 'c'])\n",
    "\n",
    "df = pd.DataFrame({'A': series1, 'B': series2, 'C': series3})\n",
    "print(df)\n"
   ]
  },
  {
   "cell_type": "code",
   "execution_count": null,
   "id": "e0e094df-3b24-46ac-8f3f-b804b9ddcfef",
   "metadata": {},
   "outputs": [],
   "source": []
  }
 ],
 "metadata": {
  "kernelspec": {
   "display_name": "Python 3 (ipykernel)",
   "language": "python",
   "name": "python3"
  },
  "language_info": {
   "codemirror_mode": {
    "name": "ipython",
    "version": 3
   },
   "file_extension": ".py",
   "mimetype": "text/x-python",
   "name": "python",
   "nbconvert_exporter": "python",
   "pygments_lexer": "ipython3",
   "version": "3.10.8"
  }
 },
 "nbformat": 4,
 "nbformat_minor": 5
}
