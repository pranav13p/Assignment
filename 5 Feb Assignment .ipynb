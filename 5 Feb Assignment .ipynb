{
 "cells": [
  {
   "cell_type": "code",
   "execution_count": 1,
   "id": "b1654457-1d93-46d6-94b6-3f135b68b7ea",
   "metadata": {},
   "outputs": [],
   "source": [
    "#Q1\n",
    "#Class: A Class is a blueprint or template that defines the variables and \n",
    "#methods common to all objects of a certain kind\n",
    "\n",
    "#object: An Object is an instance of a class. It is a self-contained entity that consists of \n",
    "#both data and procedures to manipulate the data\n",
    "\n",
    "class pwskiils1:\n",
    "    \n",
    "    \n",
    "    def __init__(self, phone_number, email_id,student_id):\n",
    "        self.phone_number = phone_number\n",
    "        self.email_id = email_id\n",
    "        self.student_id = student_id\n",
    "        \n",
    "    def return_student_details(self):\n",
    "        return self.student_id , self.phone_number, self.email_id\n",
    "        \n"
   ]
  },
  {
   "cell_type": "code",
   "execution_count": 2,
   "id": "85fb30f1-2daf-41eb-ba5c-17770294f9a6",
   "metadata": {},
   "outputs": [],
   "source": [
    "om = pwskiils1(1111,\"fdfdf\",33)"
   ]
  },
  {
   "cell_type": "code",
   "execution_count": 3,
   "id": "554c39ea-34dc-4dd5-a98b-8cc3a59ee8cd",
   "metadata": {},
   "outputs": [
    {
     "data": {
      "text/plain": [
       "(33, 1111, 'fdfdf')"
      ]
     },
     "execution_count": 3,
     "metadata": {},
     "output_type": "execute_result"
    }
   ],
   "source": [
    "om.return_student_details()"
   ]
  },
  {
   "cell_type": "code",
   "execution_count": 4,
   "id": "906e2450-8fa2-48b1-90ce-4597afb8b3ff",
   "metadata": {},
   "outputs": [],
   "source": [
    "#Q2\n",
    "\n",
    "#1- Encapsulation \n",
    "#2- Inheritance\n",
    "#3-polymorphism\n",
    "#4-abstraction"
   ]
  },
  {
   "cell_type": "code",
   "execution_count": 7,
   "id": "2923571d-4016-4a05-9bcc-8c79448d0661",
   "metadata": {},
   "outputs": [
    {
     "data": {
      "text/plain": [
       "'The __init__() function in Python is a special method thats \\nautomatically called when an object of a class is instantiated. \\nThis method is known as a constructor in object-oriented terminology \\nand is used to set up or initialize attributes of a class'"
      ]
     },
     "execution_count": 7,
     "metadata": {},
     "output_type": "execute_result"
    }
   ],
   "source": [
    "#Q3 \n",
    "\n",
    "'''The __init__() function in Python is a special method thats \n",
    "automatically called when an object of a class is instantiated. \n",
    "This method is known as a constructor in object-oriented terminology \n",
    "and is used to set up or initialize attributes of a class'''\n",
    "\n",
    "\n"
   ]
  },
  {
   "cell_type": "code",
   "execution_count": 8,
   "id": "0bace239-2069-48bc-8950-486d23e20de8",
   "metadata": {},
   "outputs": [],
   "source": [
    "\n",
    "class pwskiils1:\n",
    "    \n",
    "    \n",
    "    def __init__(self, phone_number, email_id,student_id):\n",
    "        self.phone_number = phone_number\n",
    "        self.email_id = email_id\n",
    "        self.student_id = student_id\n",
    "        \n",
    "    def return_student_details(self):\n",
    "        return self.student_id , self.phone_number, self.email_id\n",
    "        \n"
   ]
  },
  {
   "cell_type": "code",
   "execution_count": 9,
   "id": "a2a0b4a4-05cd-4282-913f-22b2a1e54121",
   "metadata": {},
   "outputs": [],
   "source": [
    "om = pwskiils1(1111,\"fdfdf\",33)"
   ]
  },
  {
   "cell_type": "code",
   "execution_count": 10,
   "id": "add89380-16ea-42e7-95bf-9312c02e5fdc",
   "metadata": {},
   "outputs": [
    {
     "data": {
      "text/plain": [
       "(33, 1111, 'fdfdf')"
      ]
     },
     "execution_count": 10,
     "metadata": {},
     "output_type": "execute_result"
    }
   ],
   "source": [
    "om.return_student_details()"
   ]
  },
  {
   "cell_type": "code",
   "execution_count": 12,
   "id": "6543fef3-9511-4031-a27a-553683f81d03",
   "metadata": {},
   "outputs": [
    {
     "data": {
      "text/plain": [
       "'The term self in Object-Oriented Programming, specifically in Python,\\nis a convention for referring to the instance upon which a method is called.'"
      ]
     },
     "execution_count": 12,
     "metadata": {},
     "output_type": "execute_result"
    }
   ],
   "source": [
    "#Q4\n",
    "\n",
    "'''The term self in Object-Oriented Programming, specifically in Python,\n",
    "is a convention for referring to the instance upon which a method is called.'''"
   ]
  },
  {
   "cell_type": "code",
   "execution_count": 14,
   "id": "f5889b0e-7ef2-468d-b70e-cad68ef401ab",
   "metadata": {},
   "outputs": [
    {
     "name": "stdout",
     "output_type": "stream",
     "text": [
      "GrandParent Speaking\n",
      "Child Saying Hello\n"
     ]
    }
   ],
   "source": [
    "#Q5\n",
    "\n",
    "'''Inheritance in object-oriented programming is \n",
    "a feature that allows a class (child class or\n",
    "                               derived class) \n",
    "to inherit properties and behavior from another \n",
    "class (parent class or base class).\n",
    "The main advantage of inheritance \n",
    "is that it promotes code reusability\n",
    "and logical structure for programs.'''\n",
    "\n",
    "# multilevel inheritance \n",
    "\n",
    "class GrandParent:\n",
    "    def speak(self):\n",
    "        print(\"GrandParent Speaking\")\n",
    "\n",
    "class Parent(GrandParent):\n",
    "    def shout(self):\n",
    "        print(\"Parent Shouting\")\n",
    "\n",
    "class Child(Parent):\n",
    "    def say_hello(self):\n",
    "        print(\"Child Saying Hello\")\n",
    "\n",
    "\n",
    "c = Child()\n",
    "c.speak()  \n",
    "c.say_hello() "
   ]
  },
  {
   "cell_type": "code",
   "execution_count": 15,
   "id": "f05adf75-8f70-4950-9eb8-1de4725e1abe",
   "metadata": {},
   "outputs": [
    {
     "name": "stdout",
     "output_type": "stream",
     "text": [
      "GrandParent Speaking\n",
      "Parent Shouting\n",
      "Child Saying Hello\n"
     ]
    }
   ],
   "source": [
    "#multiple inheritance\n",
    "\n",
    "class Mother:\n",
    "    def speak(self):\n",
    "        print(\"Mother Speaking\")\n",
    "\n",
    "class Father:\n",
    "    def shout(self):\n",
    "        print(\"Father Shouting\")\n",
    "\n",
    "class Child(Mother, Father):\n",
    "    def say_hello(self):\n",
    "        print(\"Child Saying Hello\")\n",
    "\n",
    "\n",
    "c.speak()  \n",
    "c.shout()  \n",
    "c.say_hello()  "
   ]
  },
  {
   "cell_type": "code",
   "execution_count": 16,
   "id": "571662c6-e8b2-4433-9eae-d3403b0d4b1f",
   "metadata": {},
   "outputs": [
    {
     "name": "stdout",
     "output_type": "stream",
     "text": [
      "Parent Speaking\n",
      "Child1 Saying Hello\n",
      "Parent Speaking\n",
      "Child2 Saying Hello\n"
     ]
    }
   ],
   "source": [
    "# Hierarchical Inheritance\n",
    "class Parent:\n",
    "    def speak(self):\n",
    "        print(\"Parent Speaking\")\n",
    "\n",
    "class Child1(Parent):\n",
    "    def say_hello(self):\n",
    "        print(\"Child1 Saying Hello\")\n",
    "\n",
    "class Child2(Parent):\n",
    "    def say_hello(self):\n",
    "        print(\"Child2 Saying Hello\")\n",
    "\n",
    "\n",
    "c1 = Child1()\n",
    "c1.speak()  \n",
    "c1.say_hello()  \n",
    "\n",
    "c2 = Child2()\n",
    "c2.speak()  \n",
    "c2.say_hello()  \n",
    "\n",
    "\n",
    "\n",
    "\n",
    "\n"
   ]
  },
  {
   "cell_type": "code",
   "execution_count": 18,
   "id": "d1f9bf12-40b0-49d5-b024-a9523a9b32bc",
   "metadata": {},
   "outputs": [],
   "source": [
    "\n",
    "# End "
   ]
  },
  {
   "cell_type": "code",
   "execution_count": null,
   "id": "935dc700-96a1-4fed-a681-5ecb94a71fc2",
   "metadata": {},
   "outputs": [],
   "source": []
  }
 ],
 "metadata": {
  "kernelspec": {
   "display_name": "Python 3 (ipykernel)",
   "language": "python",
   "name": "python3"
  },
  "language_info": {
   "codemirror_mode": {
    "name": "ipython",
    "version": 3
   },
   "file_extension": ".py",
   "mimetype": "text/x-python",
   "name": "python",
   "nbconvert_exporter": "python",
   "pygments_lexer": "ipython3",
   "version": "3.10.8"
  }
 },
 "nbformat": 4,
 "nbformat_minor": 5
}
