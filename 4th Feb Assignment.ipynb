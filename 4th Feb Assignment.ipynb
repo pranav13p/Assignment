{
 "cells": [
  {
   "cell_type": "code",
   "execution_count": 4,
   "id": "c193c28c-11f4-4e78-9e00-827c2a6be2be",
   "metadata": {},
   "outputs": [
    {
     "name": "stdout",
     "output_type": "stream",
     "text": [
      "[('Virat Kohli', 24936), ('Jack Kallis', 25534), ('Ricky Ponting', 27483), ('Sachin Tendulkar', 34357)]\n"
     ]
    }
   ],
   "source": [
    "#Q1 \n",
    "\n",
    "players_scores = [('Sachin Tendulkar', 34357), \n",
    "                  ('Ricky Ponting', 27483), \n",
    "                  ('Jack Kallis', 25534), \n",
    "                  ('Virat Kohli', 24936)]\n",
    "\n",
    "\n",
    "sorted_players_scores = sorted(players_scores, key=lambda x: x[1])\n",
    "\n",
    "\n",
    "print(sorted_players_scores)"
   ]
  },
  {
   "cell_type": "code",
   "execution_count": 11,
   "id": "2fbc7141-0e5c-4733-bc4f-c7fde451aa87",
   "metadata": {},
   "outputs": [
    {
     "data": {
      "text/plain": [
       "[1, 4, 9, 16, 25, 36, 49, 64, 81, 100]"
      ]
     },
     "execution_count": 11,
     "metadata": {},
     "output_type": "execute_result"
    }
   ],
   "source": [
    "#Q2\n",
    "\n",
    "# using lambda function\n",
    "\n",
    "l1=[1, 2, 3, 4, 5, 6, 7, 8, 9, 10]\n",
    "\n",
    "list(map(lambda x : x**2,l1))"
   ]
  },
  {
   "cell_type": "code",
   "execution_count": 14,
   "id": "dc11d2dc-2a2b-40f5-8668-73c7aedfafd3",
   "metadata": {},
   "outputs": [
    {
     "data": {
      "text/plain": [
       "('1', '2', '3', '4', '5', '6', '7', '8', '9', '10')"
      ]
     },
     "execution_count": 14,
     "metadata": {},
     "output_type": "execute_result"
    }
   ],
   "source": [
    "# Q3\n",
    "\n",
    "numbers = [1, 2, 3, 4, 5, 6, 7, 8, 9, 10]\n",
    "tuple(map(lambda x: str(x), numbers))\n"
   ]
  },
  {
   "cell_type": "code",
   "execution_count": 19,
   "id": "48c9907c-7008-4674-a469-1b126d600c2a",
   "metadata": {},
   "outputs": [
    {
     "data": {
      "text/plain": [
       "15511210043330985984000000"
      ]
     },
     "execution_count": 19,
     "metadata": {},
     "output_type": "execute_result"
    }
   ],
   "source": [
    "#Q4\n",
    "\n",
    "from functools import reduce\n",
    "import operator\n",
    "\n",
    "numbers = list(range(1, 26))\n",
    "\n",
    "\n",
    "reduce(operator.mul, numbers)\n",
    "\n"
   ]
  },
  {
   "cell_type": "code",
   "execution_count": 20,
   "id": "f25c60ca-5494-459b-a12b-622bad22e333",
   "metadata": {},
   "outputs": [
    {
     "data": {
      "text/plain": [
       "[6, 60, 90, 120]"
      ]
     },
     "execution_count": 20,
     "metadata": {},
     "output_type": "execute_result"
    }
   ],
   "source": [
    "#Q5\n",
    "\n",
    "l3=[2, 3, 6, 9, 27, 60, 90, 120, 55, 46]\n",
    "\n",
    "list(filter(lambda x : x % 2 == 0  and x % 3 == 0, l3))"
   ]
  },
  {
   "cell_type": "code",
   "execution_count": null,
   "id": "b8ec9b77-ff61-4a74-8a18-ff131beb3b42",
   "metadata": {},
   "outputs": [],
   "source": [
    "#Q"
   ]
  }
 ],
 "metadata": {
  "kernelspec": {
   "display_name": "Python 3 (ipykernel)",
   "language": "python",
   "name": "python3"
  },
  "language_info": {
   "codemirror_mode": {
    "name": "ipython",
    "version": 3
   },
   "file_extension": ".py",
   "mimetype": "text/x-python",
   "name": "python",
   "nbconvert_exporter": "python",
   "pygments_lexer": "ipython3",
   "version": "3.10.8"
  }
 },
 "nbformat": 4,
 "nbformat_minor": 5
}
