{
 "cells": [
  {
   "cell_type": "code",
   "execution_count": null,
   "id": "b248edb5-78ae-460e-bcec-1d7c8710fb19",
   "metadata": {},
   "outputs": [],
   "source": [
    "#Q1\n",
    "\n",
    "'''A database is a structured set of data. It is a collection of schemas, \n",
    "tables, queries, reports, views, and other objects. A database helps \n",
    "in storing, manipulating, and retrieving data efficiently.\n",
    "\n",
    "SQL (Structured Query Language) databases are also known as relational\n",
    "databases. They use structured queries to interact with the database. \n",
    "Data in SQL databases is stored in tables, which is a collection of related \n",
    "entries, and these tables are linked via keys. SQL databases are vertically\n",
    "scalable, and they are widely used when the consistency of data is critical.\n",
    "Examples include MySQL, Oracle Database, PostgreSQL, and SQL Server.\n",
    "\n",
    "NoSQL (Not Only SQL) databases are non-relational, meaning they do not rely \n",
    "on the traditional table-key model. They can handle unstructured and semi-structured data with flexibility.''' "
   ]
  },
  {
   "cell_type": "code",
   "execution_count": null,
   "id": "0d659c65-d98c-4c54-a4fc-9aa2d22dc45a",
   "metadata": {},
   "outputs": [],
   "source": [
    "#Q2\n",
    "\n",
    "'''DDL or Data Definition Language actually consists of the SQL commands \n",
    "that can be used to define the database schema. It simply deals with \n",
    "descriptions of the database schema and is used to create and modify \n",
    "the structure of database objects in the database.\n",
    "\n",
    "CREATE: It is used to create the database or its objects (like table, \n",
    "                                                          index, function, views, store procedure, etc.).\n",
    "Example: CREATE TABLE Students (ID INT, Name TEXT, Age INT);\n",
    "\n",
    "\n",
    "DROP: It is used to delete a whole database or just a table.\n",
    "The DROP statement destroys the objects like an existing database, table, index, or view.\n",
    "Example: DROP TABLE Students;\n",
    "\n",
    "ALTER: It is used to alter the structure of the database. \n",
    "\n",
    "The ALTER command is used to add, delete/drop or modify columns in \n",
    "the existing table. It is also used to add and drop various constraints on the existing table.\n",
    "Example: ALTER TABLE Students ADD Email VARCHAR(255);\n",
    "\n",
    "TRUNCATE: It is used to delete all the records from the table and free the space containing the table.\n",
    "Example: TRUNCATE TABLE Students;'''"
   ]
  },
  {
   "cell_type": "code",
   "execution_count": null,
   "id": "530f2d05-c323-4459-8f9e-b130d3faf9be",
   "metadata": {},
   "outputs": [],
   "source": [
    "#Q3\n",
    "\n",
    "'''DML or Data Manipulation Language actually consists of the SQL\n",
    "commands that can be used to manipulate the database, such as \n",
    "storing, retrieving, modifying, and deleting data.\n",
    "\n",
    "INSERT: This command is used to insert data into a table.\n",
    "Example: INSERT INTO Students (ID, Name, Age) VALUES (1, 'John', 20);\n",
    "\n",
    "UPDATE: This command is used to update existing records in a table.\n",
    "Example: UPDATE Students SET Age = 21 WHERE ID = 1;\n",
    "\n",
    "DELETE: This command is used to delete existing records in a table.\n",
    "Example: DELETE FROM Students WHERE ID = 1;'''"
   ]
  },
  {
   "cell_type": "code",
   "execution_count": null,
   "id": "ffe06f7d-6b9f-4605-8445-a94d3c96ef97",
   "metadata": {},
   "outputs": [],
   "source": [
    "#Q4\n",
    "\n",
    "'''DQL or Data Query Language consists of the SQL command used to \n",
    "retrieve the data from the database. The SELECT statement is\n",
    "used in SQL to fetch data from a database.\n",
    "\n",
    "SELECT: This command is used to select data from a database. \n",
    "The result is stored in a result table, called the result-set.\n",
    "Example: SELECT * FROM Students; This query will fetch all records from the Students table.'''"
   ]
  },
  {
   "cell_type": "code",
   "execution_count": null,
   "id": "e6c3363d-e452-4b43-a1df-1a69a7766dc4",
   "metadata": {},
   "outputs": [],
   "source": [
    "#Q5\n",
    "\n",
    "'''primary Key: A primary key is a field in a table which uniquely\n",
    "identifies each row/record in a database table. Primary keys\n",
    "must contain unique values. A primary key column cannot have NULL values. \n",
    "A table can have only one primary key.\n",
    "\n",
    "Foreign Key: A foreign key is a column or a set of columns in \n",
    "a table that is used to establish a link between the data in two\n",
    "tables. The foreign key in one table points to the primary key in \n",
    "another table. The table containing the foreign key is called the\n",
    "child table, and the table containing \n",
    "the candidate key is called the referenced or parent table.'''"
   ]
  },
  {
   "cell_type": "code",
   "execution_count": null,
   "id": "dbf7067e-037b-4650-8426-3aa17a3658c8",
   "metadata": {},
   "outputs": [],
   "source": [
    "#Q6\n",
    "\n",
    "import mysql.connector\n",
    "\n",
    "cnx = mysql.connector.connect(user='<username>', password='<password>',\n",
    "                              host='127.0.0.1',\n",
    "                              database='<database>')\n",
    "\n",
    "cursor = cnx.cursor()\n",
    "\n",
    "import mysql.connector\n",
    "\n",
    "cnx = mysql.connector.connect(user='<username>', password='<password>',\n",
    "                              host='127.0.0.1',\n",
    "                              database='<database>')\n",
    "\n",
    "cursor = cnx.cursor()\n",
    "\n"
   ]
  },
  {
   "cell_type": "code",
   "execution_count": null,
   "id": "0ec38b3e-22c7-42c3-a4c9-f2a8ed994105",
   "metadata": {},
   "outputs": [],
   "source": [
    "#Q7\n",
    "\n",
    "'''FROM and JOIN\n",
    "WHERE\n",
    "GROUP BY\n",
    "HAVING\n",
    "SELECT\n",
    "DISTINCT\n",
    "ORDER BY\n",
    "LIMIT and OFFSET'''"
   ]
  },
  {
   "cell_type": "code",
   "execution_count": null,
   "id": "fb319800-b33a-47f1-94d8-93a03a6361e9",
   "metadata": {},
   "outputs": [],
   "source": []
  }
 ],
 "metadata": {
  "kernelspec": {
   "display_name": "Python 3 (ipykernel)",
   "language": "python",
   "name": "python3"
  },
  "language_info": {
   "codemirror_mode": {
    "name": "ipython",
    "version": 3
   },
   "file_extension": ".py",
   "mimetype": "text/x-python",
   "name": "python",
   "nbconvert_exporter": "python",
   "pygments_lexer": "ipython3",
   "version": "3.10.8"
  }
 },
 "nbformat": 4,
 "nbformat_minor": 5
}
