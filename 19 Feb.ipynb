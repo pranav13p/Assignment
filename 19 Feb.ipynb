{
 "cells": [
  {
   "cell_type": "code",
   "execution_count": null,
   "id": "ee8070bc-23f3-47fc-9292-a3f3cd468829",
   "metadata": {},
   "outputs": [],
   "source": [
    "#Q1\n",
    "\n",
    "'''Flask is a micro web framework written in Python.\n",
    "Advantages of Flask Framework:\n",
    "\n",
    "Simplicity and Ease of Use: Flask offers a quick way to build \n",
    "web applications. With its minimalistic setup, one can have an\n",
    "app up and running in a very short amount of time.\n",
    "\n",
    "Flexibility: Flask doesn't make decisions for the developer, \n",
    "such as what database to use or what form validation tool works \n",
    "best. This provides developers the flexibility to choose \n",
    "the tools that fit their application and use case best.\n",
    "\n",
    "Extensibility: While Flask comes with the basics to get an app \n",
    "up and running, it can be extended with numerous extensions \n",
    "available for forms, uploads, authentication, etc. This means \n",
    "developers can add the functionality they need when they need it.'''"
   ]
  },
  {
   "cell_type": "code",
   "execution_count": null,
   "id": "8905d7a8-1589-4e31-b106-67592482d13d",
   "metadata": {},
   "outputs": [],
   "source": [
    "#Q2\n",
    "\n",
    "from flask import Flask\n",
    "from flask import request\n",
    "\n",
    "app = Flask(__name__)\n",
    "\n",
    "@app.route(\"/\")\n",
    "def hello_world():\n",
    "    return \"<h1>Hello, World!</h1>\"\n",
    "\n",
    "if __name__==\"__main__\":\n",
    "    app.run(host=\"0.0.0.0\")"
   ]
  },
  {
   "cell_type": "code",
   "execution_count": null,
   "id": "48d42cec-6bb7-4260-a316-1dab77cecb8d",
   "metadata": {},
   "outputs": [],
   "source": [
    "#Q3 \n",
    "\n",
    "'''In Flask, routing refers to the mechanism by which\n",
    "specific URLs are mapped to certain functions. These \n",
    "functions are called view functions, and they return'\n",
    "responses (like rendered templates or data) that are then sent to the client.'''\n",
    "\n",
    "'''Why Do We Use App Routes?\n",
    "\n",
    "URL Binding: Routes allow you to bind specific URLs to specific\n",
    "Python functions. This is the essence of a web framework: mapping URLs'''\n",
    "(what the user sees and interacts with) to code (that does something and returns a result).\n",
    "\n",
    "Organization: Routes help keep your application organized. Each route corresponds to a specific function, allowing for a clear understanding of which function is responsible for which part of the web application."
   ]
  },
  {
   "cell_type": "code",
   "execution_count": null,
   "id": "8b40fd13-fd7d-4b8c-86e1-80e48efe27f1",
   "metadata": {},
   "outputs": [],
   "source": [
    "#Q4\n",
    "\n",
    "\n",
    "rom flask import Flask\n",
    "\n",
    "app = Flask(__name__)\n",
    "\n",
    "@app.route('/')\n",
    "def index():\n",
    "    details = '''\n",
    "    Company Name: ABC Corporation\n",
    "    Location: India\n",
    "    Contact Detail: 999-999-9999\n",
    "    '''\n",
    "    return details\n",
    "\n",
    "@app.route('/welcome')\n",
    "def welcome():\n",
    "    return \"Welcome to ABC Corporation\"\n",
    "\n",
    "if __name__ == '__main__':\n",
    "    app.run(host=\"0.0.0.0\")"
   ]
  },
  {
   "cell_type": "code",
   "execution_count": null,
   "id": "0e79e128-fe13-43bb-9e8a-f40901fa9560",
   "metadata": {},
   "outputs": [],
   "source": [
    "#Q5\n",
    "\n",
    "'''In Flask, the url_for() function is used for URL building.\n",
    "This function allows you to generate URLs to view functions, which can\n",
    "help ensure that you don't hard-code URLs in your application. '''\n",
    "\n",
    "\n"
   ]
  }
 ],
 "metadata": {
  "kernelspec": {
   "display_name": "Python 3 (ipykernel)",
   "language": "python",
   "name": "python3"
  },
  "language_info": {
   "codemirror_mode": {
    "name": "ipython",
    "version": 3
   },
   "file_extension": ".py",
   "mimetype": "text/x-python",
   "name": "python",
   "nbconvert_exporter": "python",
   "pygments_lexer": "ipython3",
   "version": "3.10.8"
  }
 },
 "nbformat": 4,
 "nbformat_minor": 5
}
