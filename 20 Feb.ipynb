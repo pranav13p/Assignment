{
 "cells": [
  {
   "cell_type": "code",
   "execution_count": null,
   "id": "e37b2670-3fcb-4d1d-b286-d540247ae94f",
   "metadata": {},
   "outputs": [],
   "source": [
    "#Q1\n",
    "\n",
    "\n",
    "'''GET:\n",
    "\n",
    "Used to retrieve data from a server.\n",
    "Appends form-data to the URL in name/value pairs.\n",
    "The length of a URL is limited (about 3000 characters), \n",
    "so can't be used for sending large amounts of data.\n",
    "It is less secure compared to POST because data is sent in \n",
    "the URL, making it visible in browser history and bookmarks.\n",
    "\n",
    "\n",
    "POST:\n",
    "\n",
    "Used to send data to a server for creating/updating a resource.\n",
    "Sends form-data as the HTTP message body.\n",
    "No restrictions on data length.\n",
    "More secure compared to GET as data isn't exposed in the URL.'''"
   ]
  },
  {
   "cell_type": "code",
   "execution_count": null,
   "id": "c415583d-fdc8-4998-99dc-d495314ecb93",
   "metadata": {},
   "outputs": [],
   "source": [
    "#Q2\n",
    "\n",
    "'''The request object in Flask represents the HTTP request that the client \n",
    "sends to the server. It provides information about the current request like \n",
    "form data, arguments, headers, files, etc. By using request, developers\n",
    "can access and process client-provided data.\n"
   ]
  },
  {
   "cell_type": "code",
   "execution_count": null,
   "id": "cbbc667c-b619-4525-9111-57e6f2d53f39",
   "metadata": {},
   "outputs": [],
   "source": [
    "#Q3\n",
    "\n",
    "'''edirect() in Flask is used to navigate the user to a\n",
    "different endpoint or URL. It returns a response object \n",
    "that, when processed by the Flask application, redirects\n",
    "the user to the given URL. This is useful in scenarios like \n",
    "form submission where, after processing the form data, you might \n",
    "want to redirect the user to a 'thank you' page or back to the homepage.'''"
   ]
  },
  {
   "cell_type": "code",
   "execution_count": null,
   "id": "3711132a-3ce1-4866-9d53-1acc909f3131",
   "metadata": {},
   "outputs": [],
   "source": [
    "#Q4\n",
    "\n",
    "\n",
    "'''Templates in Flask are used to generate HTML dynamically. \n",
    "Flask integrates with the Jinja2 templating engine, which allows\n",
    "developers to insert variable content into HTML, implement control \n",
    "structures like loops and conditionals, and reuse code with template inheritance.\n",
    "\n",
    "render_template() is a function in Flask that renders a template, \n",
    "substituting any provided variables into the template to produce the\n",
    "final HTML. It reads the template, processes it with the given context\n",
    "(variables), and then returns the generated HTML as a string.''"
   ]
  },
  {
   "cell_type": "code",
   "execution_count": null,
   "id": "1b84c312-aefd-4fa3-9d82-576656514656",
   "metadata": {},
   "outputs": [],
   "source": [
    "#Q5\n",
    "\n",
    "from flask import Flask, jsonify\n",
    "\n",
    "app = Flask(__name__)\n",
    "\n",
    "@app.route('/')\n",
    "def hello_world():\n",
    "    return jsonify(message=\"Hello, World!\")\n",
    "\n",
    "if __name__ == '__main__':\n",
    "    app.run(debug=True)\n"
   ]
  }
 ],
 "metadata": {
  "kernelspec": {
   "display_name": "Python 3 (ipykernel)",
   "language": "python",
   "name": "python3"
  },
  "language_info": {
   "codemirror_mode": {
    "name": "ipython",
    "version": 3
   },
   "file_extension": ".py",
   "mimetype": "text/x-python",
   "name": "python",
   "nbconvert_exporter": "python",
   "pygments_lexer": "ipython3",
   "version": "3.10.8"
  }
 },
 "nbformat": 4,
 "nbformat_minor": 5
}
