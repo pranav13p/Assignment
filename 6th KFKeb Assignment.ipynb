{
 "cells": [
  {
   "cell_type": "code",
   "execution_count": 1,
   "id": "1cf0b6d2-885a-4422-8c73-d79ac776ef29",
   "metadata": {},
   "outputs": [
    {
     "name": "stdout",
     "output_type": "stream",
     "text": [
      "0\n"
     ]
    }
   ],
   "source": [
    "#Q1 \n",
    "\n",
    "from collections.abc import Iterable\n",
    "\n",
    "def flatten(lis):\n",
    "    for item in lis:\n",
    "        if isinstance(item, Iterable) and not isinstance(item, (str, bytes)):\n",
    "            for x in flatten(item):\n",
    "                yield x\n",
    "        else:\n",
    "            yield item\n",
    "\n",
    "def extract_dict_values(dic):\n",
    "    for key, value in dic.items():\n",
    "        yield from flatten([key, value])\n",
    "\n",
    "def get_product_of_numbers(lis):\n",
    "    flat_list = []\n",
    "    for item in flatten(lis):\n",
    "        if isinstance(item, dict):\n",
    "            flat_list.extend(extract_dict_values(item))\n",
    "        else:\n",
    "            flat_list.append(item)\n",
    "\n",
    "    product = 1\n",
    "    for i in flat_list:\n",
    "        if isinstance(i, (int, float)):\n",
    "            product *= i\n",
    "\n",
    "    return product\n",
    "\n",
    "list1 = [1, 2, 3, 4, [44, 55, 66, True], False, (34, 56, 78, 89, 34), {1, 2, 3, 3, 2, 1}, {1:34, \"key2\": [55, 67, 78, 89], 4: (45, 22, 61, 34)}, [56, 'data science'], 'Machine Learning']\n",
    "\n",
    "print(get_product_of_numbers(list1))"
   ]
  },
  {
   "cell_type": "code",
   "execution_count": 2,
   "id": "c3389b58-af99-48d3-b9f1-f39b775fe820",
   "metadata": {},
   "outputs": [
    {
     "name": "stdout",
     "output_type": "stream",
     "text": [
      "r$dzmg$gl$yvxlnv$z$wzgz$hxrvmgrhg.\n"
     ]
    }
   ],
   "source": [
    "#Q2\n",
    "\n",
    "def encrypt(text):\n",
    "    result = \"\"\n",
    "    for char in text:\n",
    "        if char.isalpha():  # if the character is a letter\n",
    "            result += chr(219 - ord(char.lower()))  # the ASCII value of 'a' + 'z' is 219\n",
    "        elif char.isspace():  # if the character is a space\n",
    "            result += \"$\"\n",
    "        else:\n",
    "            result += char  # if the character is not a letter or space (like punctuation), keep it as it is\n",
    "    return result\n",
    "\n",
    "input_sentence = \"I want to become a Data Scientist.\"\n",
    "print(encrypt(input_sentence))"
   ]
  },
  {
   "cell_type": "code",
   "execution_count": null,
   "id": "2c2bd4e4-62fa-4cd6-a22b-4728db8e9b65",
   "metadata": {},
   "outputs": [],
   "source": []
  }
 ],
 "metadata": {
  "kernelspec": {
   "display_name": "Python 3 (ipykernel)",
   "language": "python",
   "name": "python3"
  },
  "language_info": {
   "codemirror_mode": {
    "name": "ipython",
    "version": 3
   },
   "file_extension": ".py",
   "mimetype": "text/x-python",
   "name": "python",
   "nbconvert_exporter": "python",
   "pygments_lexer": "ipython3",
   "version": "3.10.8"
  }
 },
 "nbformat": 4,
 "nbformat_minor": 5
}
