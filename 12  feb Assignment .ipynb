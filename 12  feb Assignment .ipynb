{
 "cells": [
  {
   "cell_type": "code",
   "execution_count": null,
   "id": "32052e7b-9610-4710-9a40-9d4222cdd410",
   "metadata": {},
   "outputs": [],
   "source": [
    "#Q1\n",
    "'''An exception in Python is an event that occurs during the execution of a\n",
    "program that disrupts the normal flow of the program's instructions.'''\n",
    "\n",
    "'''syntax of your code is incorrect. For instance, forgetting to close a parenthesis or \n",
    "misspelling a keyword would result in a syntax error.'''\n",
    "\n",
    "'''Unlike syntax errors, exceptions are not necessarily a sign that something \n",
    "is syntactically wrong with your program'''"
   ]
  },
  {
   "cell_type": "code",
   "execution_count": 1,
   "id": "f2d40ca7-e76d-45db-8e18-498d3b74e592",
   "metadata": {},
   "outputs": [
    {
     "ename": "ZeroDivisionError",
     "evalue": "division by zero",
     "output_type": "error",
     "traceback": [
      "\u001b[0;31m---------------------------------------------------------------------------\u001b[0m",
      "\u001b[0;31mZeroDivisionError\u001b[0m                         Traceback (most recent call last)",
      "Cell \u001b[0;32mIn[1], line 9\u001b[0m\n\u001b[1;32m      6\u001b[0m \u001b[38;5;28;01mdef\u001b[39;00m \u001b[38;5;21mdivide\u001b[39m(a, b):\n\u001b[1;32m      7\u001b[0m     \u001b[38;5;28;01mreturn\u001b[39;00m a \u001b[38;5;241m/\u001b[39m b\n\u001b[0;32m----> 9\u001b[0m result \u001b[38;5;241m=\u001b[39m \u001b[43mdivide\u001b[49m\u001b[43m(\u001b[49m\u001b[38;5;241;43m1\u001b[39;49m\u001b[43m,\u001b[49m\u001b[43m \u001b[49m\u001b[38;5;241;43m0\u001b[39;49m\u001b[43m)\u001b[49m\n\u001b[1;32m     10\u001b[0m \u001b[38;5;28mprint\u001b[39m(result)\n",
      "Cell \u001b[0;32mIn[1], line 7\u001b[0m, in \u001b[0;36mdivide\u001b[0;34m(a, b)\u001b[0m\n\u001b[1;32m      6\u001b[0m \u001b[38;5;28;01mdef\u001b[39;00m \u001b[38;5;21mdivide\u001b[39m(a, b):\n\u001b[0;32m----> 7\u001b[0m     \u001b[38;5;28;01mreturn\u001b[39;00m \u001b[43ma\u001b[49m\u001b[43m \u001b[49m\u001b[38;5;241;43m/\u001b[39;49m\u001b[43m \u001b[49m\u001b[43mb\u001b[49m\n",
      "\u001b[0;31mZeroDivisionError\u001b[0m: division by zero"
     ]
    }
   ],
   "source": [
    "#Q2\n",
    "\n",
    "'''When an exception is not handled in a Python program, the program will terminate abruptly and an error\n",
    "message will be printed to the standard error output.'''\n",
    "\n",
    "def divide(a, b):\n",
    "    return a / b\n",
    "\n",
    "result = divide(1, 0)\n",
    "print(result)"
   ]
  },
  {
   "cell_type": "code",
   "execution_count": null,
   "id": "a0d4268f-3b7f-4be3-a314-3277598da9b5",
   "metadata": {},
   "outputs": [],
   "source": [
    "#Q3\n",
    "\n",
    "'''In Python, the try, except, finally, and else statements are used to catch and handle exceptions'''\n",
    "\n",
    "def divide(a, b):\n",
    "    try:\n",
    "        result = a / b\n",
    "    except ZeroDivisionError:\n",
    "        print(\"Error: You're trying to divide by zero.\")\n",
    "        return None\n",
    "    except TypeError:\n",
    "        print(\"Error: Both arguments must be numbers.\")\n",
    "        return None\n",
    "    else:\n",
    "        print(\"Division successful!\")\n",
    "        return result\n",
    "    finally:\n",
    "        print(\"End of function.\")\n",
    "\n",
    "print(divide(1, 0))\n",
    "print(divide(\"one\", 1))\n",
    "print(divide(10, 2))"
   ]
  },
  {
   "cell_type": "code",
   "execution_count": 2,
   "id": "a7c6b2a6-97ea-4013-8113-9197a7729926",
   "metadata": {},
   "outputs": [
    {
     "name": "stdout",
     "output_type": "stream",
     "text": [
      "Doing the calculation...\n",
      "Finished calculation.\n",
      "5.0\n",
      "You can't divide by zero!\n",
      "Finished calculation.\n",
      "None\n"
     ]
    }
   ],
   "source": [
    "#Q4\n",
    "\n",
    "'''try and else: The try block contains the code that might throw an exception. \n",
    "After the try block, an else block can be added to run code when no exceptions\n",
    "occur within the try block. It's like saying \"try this code, else if no\n",
    "exception was raised, then do this\".\n",
    "\n",
    "finally: The finally block will be executed no matter if the try \n",
    "block raises an error or not. It's useful for code that must execute\n",
    "regardless of whether an exception was raised (like closing a file or a network socket).\n",
    "\n",
    "raise: The raise keyword is used to raise an exception. You can define what kind of error \n",
    "to raise, and the text to print to the user.'''\n",
    "\n",
    "def calculate(a, b):\n",
    "    try:\n",
    "        if b == 0:\n",
    "            raise ValueError(\"You can't divide by zero!\")\n",
    "        else:\n",
    "            print(\"Doing the calculation...\")\n",
    "            result = a / b\n",
    "    except ValueError as e:\n",
    "        print(e)\n",
    "        result = None\n",
    "    finally:\n",
    "        print(\"Finished calculation.\")\n",
    "    return result\n",
    "\n",
    "print(calculate(10, 2))  \n",
    "print(calculate(10, 0))  \n"
   ]
  },
  {
   "cell_type": "code",
   "execution_count": 3,
   "id": "1b87f052-ce28-45b5-a1b5-581e1860aa3a",
   "metadata": {},
   "outputs": [
    {
     "name": "stdout",
     "output_type": "stream",
     "text": [
      "Age is less than 18.\n"
     ]
    }
   ],
   "source": [
    "#Q5\n",
    "\n",
    "'''Custom exceptions in Python are user-defined exceptions that are typically derived from the base Exception \n",
    "class or one of its subclasses'''\n",
    "\n",
    "class AgeTooSmallError(Exception):\n",
    "    \n",
    "    pass\n",
    "\n",
    "def verify_age(age):\n",
    "    if age < 18:\n",
    "        raise AgeTooSmallError(\"Age is less than 18.\")\n",
    "    else:\n",
    "        return \"Age is valid.\"\n",
    "\n",
    "try:\n",
    "    print(verify_age(10))\n",
    "except AgeTooSmallError as e:\n",
    "    print(e)\n"
   ]
  },
  {
   "cell_type": "code",
   "execution_count": 4,
   "id": "ee0d7834-d2b4-4c96-816f-c41960a9a645",
   "metadata": {},
   "outputs": [
    {
     "name": "stdout",
     "output_type": "stream",
     "text": [
      "The username must be at least 5 characters long.\n"
     ]
    }
   ],
   "source": [
    "#Q6\n",
    "class InvalidUsernameError(Exception):\n",
    "    \n",
    "    pass\n",
    "\n",
    "def create_username(username):\n",
    "    if len(username) < 5:\n",
    "        raise InvalidUsernameError(\"The username must be at least 5 characters long.\")\n",
    "    else:\n",
    "        return \"Username is valid.\"\n",
    "\n",
    "try:\n",
    "    print(create_username(\"bob\"))\n",
    "except InvalidUsernameError as e:\n",
    "    print(e)\n"
   ]
  },
  {
   "cell_type": "code",
   "execution_count": 5,
   "id": "08b7617f-9c95-495d-b6fd-84ae8c6a9a86",
   "metadata": {},
   "outputs": [],
   "source": [
    "#END"
   ]
  },
  {
   "cell_type": "code",
   "execution_count": null,
   "id": "e05b95ef-30e1-406a-ae3f-c0586cd481bd",
   "metadata": {},
   "outputs": [],
   "source": []
  }
 ],
 "metadata": {
  "kernelspec": {
   "display_name": "Python 3 (ipykernel)",
   "language": "python",
   "name": "python3"
  },
  "language_info": {
   "codemirror_mode": {
    "name": "ipython",
    "version": 3
   },
   "file_extension": ".py",
   "mimetype": "text/x-python",
   "name": "python",
   "nbconvert_exporter": "python",
   "pygments_lexer": "ipython3",
   "version": "3.10.8"
  }
 },
 "nbformat": 4,
 "nbformat_minor": 5
}
