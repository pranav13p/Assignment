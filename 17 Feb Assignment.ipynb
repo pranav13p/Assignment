{
 "cells": [
  {
   "cell_type": "code",
   "execution_count": null,
   "id": "aae1789d-e628-4cb7-8500-a8baa8f2c361",
   "metadata": {},
   "outputs": [],
   "source": [
    "#Q1 \n",
    "\n",
    "'''MongoDB is an open-source, document-oriented database designed\n",
    "for ease of development and scalability. It is classified as a \n",
    "NoSQL database, which means it does not use the traditional tabular\n",
    "relational database structure (SQL) but instead, it uses JSON-like documents and schemas.'''\n",
    "\n",
    "'''MongoDB is often preferred in scenarios where:\n",
    "\n",
    "The data is not structured and changing over time: MongoDB \n",
    "is schema-less, meaning you can create records\n",
    "without first defining the structure, such as the fields or\n",
    "the types of their values.\n",
    "You need to handle large amounts of data and high traffic loads\n",
    ": MongoDB stores data in BSON format, allowing for efficient iteration and manipulation of data.'''"
   ]
  },
  {
   "cell_type": "code",
   "execution_count": null,
   "id": "fc2a512b-3c23-434d-9d2c-d0625c4cc369",
   "metadata": {},
   "outputs": [],
   "source": [
    "#Q2\n",
    "\n",
    "'''Document-Oriented: MongoDB is a document database in which one collection holds \n",
    "different documents. The structure (i.e., fields) of documents in the same collection\n",
    "can be different from each other.\n",
    "\n",
    "Ad hoc queries: MongoDB supports searching by field, range queries, and regular expression\n",
    "searches. Queries can return specific fields of documents and include user-defined JavaScript functions.\n",
    "\n",
    "Indexing: Fields in a MongoDB document can be indexed with primary and secondary indices.\n",
    "\n",
    "Replication: MongoDB provides high availability with replica sets, which is a form of data redundancy.'''"
   ]
  },
  {
   "cell_type": "code",
   "execution_count": null,
   "id": "b658da02-b342-4707-9ca2-43215ad24f4c",
   "metadata": {},
   "outputs": [],
   "source": [
    "#Q3\n",
    "\n",
    "from pymongo import MongoClient\n",
    "\n",
    "client = MongoClient('mongodb://localhost:27017/')\n",
    "\n",
    "db = client['mydatabase']\n",
    "\n",
    "collection = db['mycollection']\n"
   ]
  },
  {
   "cell_type": "code",
   "execution_count": null,
   "id": "c313a644-a91b-4785-b506-6c7c9b664b01",
   "metadata": {},
   "outputs": [],
   "source": [
    "#Q4\n",
    "\n",
    "\n",
    "record = {\"name\": \"John\", \"age\": 30, \"city\": \"New York\"}\n",
    "insert_result = collection.insert_one(record)\n",
    "\n",
    "\n",
    "records = [\n",
    "    {\"name\": \"Alice\", \"age\": 23, \"city\": \"London\"},\n",
    "    {\"name\": \"Bob\", \"age\": 27, \"city\": \"Paris\"}\n",
    "]\n",
    "insert_many_result = collection.insert_many(records)\n",
    "\n",
    "\n",
    "for record in collection.find():\n",
    "    print(record)\n",
    "\n",
    "\n",
    "print(collection.find_one())\n"
   ]
  },
  {
   "cell_type": "code",
   "execution_count": null,
   "id": "5324eb98-d675-4407-b1fe-592ba914ed09",
   "metadata": {},
   "outputs": [],
   "source": [
    "#Q5\n",
    "\n",
    "'''the find() method in MongoDB is used to search for documents within a collection. Without any parameters, \n",
    "find() returns all documents in the collection.'''\n",
    "\n",
    "# Get all records where the age is greater than 25\n",
    "for record in collection.find({\"age\": {\"$gt\": 25}}):\n",
    "    print(record)\n"
   ]
  },
  {
   "cell_type": "code",
   "execution_count": null,
   "id": "37c7cd47-2edb-4da6-82c2-8eb93c1b414b",
   "metadata": {},
   "outputs": [],
   "source": [
    "#Q6\n",
    "\n",
    "'''he sort() method in MongoDB is used to sort the documents in a collection.\n",
    "You need to specify the field(s) to sort by and the direction (ascending or descending). In PyMongo, \n",
    "use 1 for ascending and -1 for descending.'''\n",
    "\n",
    "# Sort the collection by the name field in ascending order\n",
    "for record in collection.find().sort(\"name\", 1):\n",
    "    print(record)\n"
   ]
  },
  {
   "cell_type": "code",
   "execution_count": null,
   "id": "98fed129-c36f-4a77-98ec-9e4969b093e8",
   "metadata": {},
   "outputs": [],
   "source": [
    "#Q7\n",
    "\n",
    "'''delete_one(): This method deletes the first document that matches the filter.\n",
    "delete_many(): This method deletes all documents that match the filter.\n",
    "drop(): This method drops an entire collection, including all of its documents.'''\n"
   ]
  }
 ],
 "metadata": {
  "kernelspec": {
   "display_name": "Python 3 (ipykernel)",
   "language": "python",
   "name": "python3"
  },
  "language_info": {
   "codemirror_mode": {
    "name": "ipython",
    "version": 3
   },
   "file_extension": ".py",
   "mimetype": "text/x-python",
   "name": "python",
   "nbconvert_exporter": "python",
   "pygments_lexer": "ipython3",
   "version": "3.10.8"
  }
 },
 "nbformat": 4,
 "nbformat_minor": 5
}
